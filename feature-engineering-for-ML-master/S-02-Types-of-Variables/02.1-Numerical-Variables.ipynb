{
 "cells": [
  {
   "cell_type": "markdown",
   "metadata": {},
   "source": [
    "## What is a Variable?\n",
    "\n",
    "A variable is any characteristic, number, or quantity that can be measured or counted. They are called 'variables' because the value they take may vary, and it usually does. The following are examples of variables:\n",
    "\n",
    "- Age (21, 35, 62, ...)\n",
    "- Gender (male, female)\n",
    "- Income (GBP 20000, GBP 35000, GBP 45000, ...)\n",
    "- House price (GBP 350000, GBP 570000, ...)\n",
    "- Country of birth (China, Russia, Costa Rica, ...)\n",
    "- Eye colour (brown, green, blue, ...)\n",
    "- Vehicle make (Ford, Volkswagen, ...)\n",
    "\n",
    "Most variables in a data set can be classified into one of two major types:\n",
    "\n",
    "- **Numerical variables** \n",
    "- **Categorical variables**\n",
    "\n",
    "===================================================================================\n",
    "\n",
    "## Numerical Variables\n",
    "\n",
    "The values of a numerical variable are numbers. They can be further classified into:\n",
    "\n",
    "- **Discrete variables** \n",
    "- **Continuous variables**\n",
    "\n",
    "\n",
    "### Discrete Variable\n",
    "\n",
    "In a discrete variable, the values are whole numbers (counts). For example, the number of items bought by a customer in a supermarket is discrete. The customer can buy 1, 25, or 50 items, but not 3.7 items. It is always a round number. The following are examples of discrete variables:\n",
    "\n",
    "- Number of active bank accounts of a borrower (1, 4, 7, ...)\n",
    "- Number of pets in the family\n",
    "- Number of children in the family\n",
    "\n",
    "\n",
    "### Continuous Variable\n",
    "\n",
    "A variable that may contain any value within a range is continuous. For example, the total amount paid by a customer in a supermarket is continuous. The customer can pay, GBP 20.5, GBP 13.10, GBP 83.20 and so on. Other examples of continuous variables are:\n",
    "\n",
    "- House price (in principle, it can take any value) (GBP 350000, 57000, 100000, ...)\n",
    "- Time spent surfing a website (3.4 seconds, 5.10 seconds, ...)\n",
    "- Total debt as percentage of total income in the last month (0.2, 0.001, 0, 0.75, ...)\n",
    "\n",
    "=============================================================================\n",
    "\n",
    "## In this demo: Peer to peer lending (Finance)\n",
    "\n",
    "In this demo, we will use a toy data set which simulates data from a peer-o-peer finance company to inspect discrete and continuous numerical variables.\n",
    "\n",
    "- You should have downloaded the **Datasets** together with the Jupyter notebooks in **Section 1**."
   ]
  },
  {
   "cell_type": "code",
   "execution_count": 1,
   "metadata": {},
   "outputs": [],
   "source": [
    "import pandas as pd\n",
    "import numpy as np\n",
    "\n",
    "import matplotlib.pyplot as plt"
   ]
  },
  {
   "cell_type": "code",
   "execution_count": 2,
   "metadata": {},
   "outputs": [
    {
     "data": {
      "text/html": [
       "<div>\n",
       "<style scoped>\n",
       "    .dataframe tbody tr th:only-of-type {\n",
       "        vertical-align: middle;\n",
       "    }\n",
       "\n",
       "    .dataframe tbody tr th {\n",
       "        vertical-align: top;\n",
       "    }\n",
       "\n",
       "    .dataframe thead th {\n",
       "        text-align: right;\n",
       "    }\n",
       "</style>\n",
       "<table border=\"1\" class=\"dataframe\">\n",
       "  <thead>\n",
       "    <tr style=\"text-align: right;\">\n",
       "      <th></th>\n",
       "      <th>customer_id</th>\n",
       "      <th>disbursed_amount</th>\n",
       "      <th>interest</th>\n",
       "      <th>market</th>\n",
       "      <th>employment</th>\n",
       "      <th>time_employed</th>\n",
       "      <th>householder</th>\n",
       "      <th>income</th>\n",
       "      <th>date_issued</th>\n",
       "      <th>target</th>\n",
       "      <th>loan_purpose</th>\n",
       "      <th>number_open_accounts</th>\n",
       "      <th>date_last_payment</th>\n",
       "      <th>number_credit_lines_12</th>\n",
       "    </tr>\n",
       "  </thead>\n",
       "  <tbody>\n",
       "    <tr>\n",
       "      <th>0</th>\n",
       "      <td>0</td>\n",
       "      <td>23201.5</td>\n",
       "      <td>15.4840</td>\n",
       "      <td>C</td>\n",
       "      <td>Teacher</td>\n",
       "      <td>&lt;=5 years</td>\n",
       "      <td>RENT</td>\n",
       "      <td>84600.0</td>\n",
       "      <td>2013-06-11</td>\n",
       "      <td>0</td>\n",
       "      <td>Debt consolidation</td>\n",
       "      <td>4.0</td>\n",
       "      <td>2016-01-14</td>\n",
       "      <td>NaN</td>\n",
       "    </tr>\n",
       "    <tr>\n",
       "      <th>1</th>\n",
       "      <td>1</td>\n",
       "      <td>7425.0</td>\n",
       "      <td>11.2032</td>\n",
       "      <td>B</td>\n",
       "      <td>Accountant</td>\n",
       "      <td>&lt;=5 years</td>\n",
       "      <td>OWNER</td>\n",
       "      <td>102000.0</td>\n",
       "      <td>2014-05-08</td>\n",
       "      <td>0</td>\n",
       "      <td>Car purchase</td>\n",
       "      <td>13.0</td>\n",
       "      <td>2016-01-25</td>\n",
       "      <td>NaN</td>\n",
       "    </tr>\n",
       "    <tr>\n",
       "      <th>2</th>\n",
       "      <td>2</td>\n",
       "      <td>11150.0</td>\n",
       "      <td>8.5100</td>\n",
       "      <td>A</td>\n",
       "      <td>Statistician</td>\n",
       "      <td>&lt;=5 years</td>\n",
       "      <td>RENT</td>\n",
       "      <td>69840.0</td>\n",
       "      <td>2013-10-26</td>\n",
       "      <td>0</td>\n",
       "      <td>Debt consolidation</td>\n",
       "      <td>8.0</td>\n",
       "      <td>2014-09-26</td>\n",
       "      <td>NaN</td>\n",
       "    </tr>\n",
       "    <tr>\n",
       "      <th>3</th>\n",
       "      <td>3</td>\n",
       "      <td>7600.0</td>\n",
       "      <td>5.8656</td>\n",
       "      <td>A</td>\n",
       "      <td>Other</td>\n",
       "      <td>&lt;=5 years</td>\n",
       "      <td>RENT</td>\n",
       "      <td>100386.0</td>\n",
       "      <td>2015-08-20</td>\n",
       "      <td>0</td>\n",
       "      <td>Debt consolidation</td>\n",
       "      <td>20.0</td>\n",
       "      <td>2016-01-26</td>\n",
       "      <td>NaN</td>\n",
       "    </tr>\n",
       "    <tr>\n",
       "      <th>4</th>\n",
       "      <td>4</td>\n",
       "      <td>31960.0</td>\n",
       "      <td>18.7392</td>\n",
       "      <td>E</td>\n",
       "      <td>Bus driver</td>\n",
       "      <td>&gt;5 years</td>\n",
       "      <td>RENT</td>\n",
       "      <td>95040.0</td>\n",
       "      <td>2014-07-22</td>\n",
       "      <td>0</td>\n",
       "      <td>Debt consolidation</td>\n",
       "      <td>14.0</td>\n",
       "      <td>2016-01-11</td>\n",
       "      <td>NaN</td>\n",
       "    </tr>\n",
       "  </tbody>\n",
       "</table>\n",
       "</div>"
      ],
      "text/plain": [
       "   customer_id  disbursed_amount  interest market    employment time_employed  \\\n",
       "0            0           23201.5   15.4840      C       Teacher     <=5 years   \n",
       "1            1            7425.0   11.2032      B    Accountant     <=5 years   \n",
       "2            2           11150.0    8.5100      A  Statistician     <=5 years   \n",
       "3            3            7600.0    5.8656      A         Other     <=5 years   \n",
       "4            4           31960.0   18.7392      E    Bus driver      >5 years   \n",
       "\n",
       "  householder    income date_issued  target        loan_purpose  \\\n",
       "0        RENT   84600.0  2013-06-11       0  Debt consolidation   \n",
       "1       OWNER  102000.0  2014-05-08       0        Car purchase   \n",
       "2        RENT   69840.0  2013-10-26       0  Debt consolidation   \n",
       "3        RENT  100386.0  2015-08-20       0  Debt consolidation   \n",
       "4        RENT   95040.0  2014-07-22       0  Debt consolidation   \n",
       "\n",
       "   number_open_accounts date_last_payment  number_credit_lines_12  \n",
       "0                   4.0        2016-01-14                     NaN  \n",
       "1                  13.0        2016-01-25                     NaN  \n",
       "2                   8.0        2014-09-26                     NaN  \n",
       "3                  20.0        2016-01-26                     NaN  \n",
       "4                  14.0        2016-01-11                     NaN  "
      ]
     },
     "execution_count": 2,
     "metadata": {},
     "output_type": "execute_result"
    }
   ],
   "source": [
    "# let's load the dataset \n",
    "\n",
    "# Variable definitions:\n",
    "#-------------------------\n",
    "# disbursed_amount: loan amount given to the borrower\n",
    "# interest: interest rate\n",
    "# income: annual income\n",
    "# number_open_accounts: open accounts (more on this later)\n",
    "# number_credit_lines_12: accounts opened in the last 12 months\n",
    "# target: loan status(paid or being repaid = 1, defaulted = 0)\n",
    "\n",
    "\n",
    "data = pd.read_csv('../loan.csv')\n",
    "\n",
    "data.head()"
   ]
  },
  {
   "cell_type": "markdown",
   "metadata": {},
   "source": [
    "### Continuous Variables"
   ]
  },
  {
   "cell_type": "code",
   "execution_count": 3,
   "metadata": {},
   "outputs": [
    {
     "data": {
      "text/plain": [
       "array([23201.5 ,  7425.  , 11150.  , ...,  6279.  , 12894.75, 25584.  ])"
      ]
     },
     "execution_count": 3,
     "metadata": {},
     "output_type": "execute_result"
    }
   ],
   "source": [
    "# let's look at the values of the variable disbursed_amount\n",
    "# this is the amount of money requested by the borrower\n",
    "\n",
    "# this variable is continuous, it can take in principle\n",
    "# any value\n",
    "\n",
    "data['disbursed_amount'].unique()"
   ]
  },
  {
   "cell_type": "code",
   "execution_count": 4,
   "metadata": {},
   "outputs": [
    {
     "data": {
      "text/plain": [
       "Text(0, 0.5, 'Number of Loans')"
      ]
     },
     "execution_count": 4,
     "metadata": {},
     "output_type": "execute_result"
    },
    {
     "data": {
      "image/png": "[encoded data removed]",
      "text/plain": [
       "<Figure size 432x288 with 1 Axes>"
      ]
     },
     "metadata": {
      "needs_background": "light"
     },
     "output_type": "display_data"
    }
   ],
   "source": [
    "# let's make a histogram to get familiar with the\n",
    "# distribution of the variable\n",
    "\n",
    "fig = data['disbursed_amount'].hist(bins=50)\n",
    "\n",
    "fig.set_title('Loan Amount Requested')\n",
    "fig.set_xlabel('Loan Amount')\n",
    "fig.set_ylabel('Number of Loans')"
   ]
  },
  {
   "cell_type": "markdown",
   "metadata": {},
   "source": [
    "The values of the variable vary across the entire range of loan amounts typically disbursed to borrowers. This is characteristic of continuous variables."
   ]
  },
  {
   "cell_type": "code",
   "execution_count": 5,
   "metadata": {
    "scrolled": true
   },
   "outputs": [
    {
     "data": {
      "text/plain": [
       "array([15.484 , 11.2032,  8.51  , ..., 12.9195, 11.2332, 11.0019])"
      ]
     },
     "execution_count": 5,
     "metadata": {},
     "output_type": "execute_result"
    }
   ],
   "source": [
    "# let's do the same exercise for the variable interest rate,\n",
    "# which is the interest charged by the finance company to the borrowers\n",
    "\n",
    "# this variable is also continuous, it can take in principle\n",
    "# any value within the range\n",
    "\n",
    "data['interest'].unique()"
   ]
  },
  {
   "cell_type": "code",
   "execution_count": 6,
   "metadata": {},
   "outputs": [
    {
     "data": {
      "text/plain": [
       "Text(0, 0.5, 'Number of Loans')"
      ]
     },
     "execution_count": 6,
     "metadata": {},
     "output_type": "execute_result"
    },
    {
     "data": {
      "image/png": "[encoded data removed]",
      "text/plain": [
       "<Figure size 432x288 with 1 Axes>"
      ]
     },
     "metadata": {
      "needs_background": "light"
     },
     "output_type": "display_data"
    }
   ],
   "source": [
    "# let's make a histogram to get familiar with the\n",
    "# distribution of the variable\n",
    "\n",
    "fig = data['interest'].hist(bins=30)\n",
    "\n",
    "fig.set_title('Interest Rate')\n",
    "fig.set_xlabel('Interest Rate')\n",
    "fig.set_ylabel('Number of Loans')"
   ]
  },
  {
   "cell_type": "markdown",
   "metadata": {},
   "source": [
    "We see that the values of the variable vary continuously across the variable range. The values are the interest rate charged to borrowers."
   ]
  },
  {
   "cell_type": "code",
   "execution_count": 7,
   "metadata": {},
   "outputs": [
    {
     "data": {
      "text/plain": [
       "Text(0, 0.5, 'Number of Customers')"
      ]
     },
     "execution_count": 7,
     "metadata": {},
     "output_type": "execute_result"
    },
    {
     "data": {
      "image/png": "[encoded data removed]",
      "text/plain": [
       "<Figure size 432x288 with 1 Axes>"
      ]
     },
     "metadata": {
      "needs_background": "light"
     },
     "output_type": "display_data"
    }
   ],
   "source": [
    "# Now, let's explore the income declared by the customers,\n",
    "# that is, how much they earn yearly.\n",
    "\n",
    "# this variable is also continuous\n",
    "\n",
    "fig = data['income'].hist(bins=100)\n",
    "\n",
    "# for better visualisation, I display only specific\n",
    "# range in the x-axis\n",
    "fig.set_xlim(0, 400000)\n",
    "\n",
    "# title and axis legends\n",
    "fig.set_title(\"Customer's Annual Income\")\n",
    "fig.set_xlabel('Annual Income')\n",
    "fig.set_ylabel('Number of Customers')"
   ]
  },
  {
   "cell_type": "markdown",
   "metadata": {},
   "source": [
    "The majority of salaries are concentrated towards values in the range 30-70k, with only a few customers earning higher salaries. The values of the variable, vary continuously across the variable range, because this is a continuous variable."
   ]
  },
  {
   "cell_type": "markdown",
   "metadata": {},
   "source": [
    "### Discrete Variables"
   ]
  },
  {
   "cell_type": "markdown",
   "metadata": {},
   "source": [
    "Let's explore the variable \"Number of open credit lines in the borrower's credit file\" (number_open_accounts in the dataset). \n",
    "\n",
    "This variable represents the total number of credit items (for example, credit cards, car loans, mortgages, etc) that is known for that borrower. \n",
    "\n",
    "By definition it is a discrete variable, because a borrower can have 1 credit card, but not 3.5 credit cards."
   ]
  },
  {
   "cell_type": "code",
   "execution_count": 8,
   "metadata": {},
   "outputs": [
    {
     "data": {
      "text/plain": [
       "array([ 4., 13.,  8., 20., 14.,  5.,  9., 18., 16., 17., 12., 15.,  6.,\n",
       "       10., 11.,  7., 21., 19., 26.,  2., 22., 27., 23., 25., 24., 28.,\n",
       "        3., 30., 41., 32., 33., 31., 29., 37., 49., 34., 35., 38.,  1.,\n",
       "       36., 42., 47., 40., 44., 43.])"
      ]
     },
     "execution_count": 8,
     "metadata": {},
     "output_type": "execute_result"
    }
   ],
   "source": [
    "# let's inspect the values of the variable\n",
    "\n",
    "# this is a discrete variable\n",
    "\n",
    "data['number_open_accounts'].dropna().unique()"
   ]
  },
  {
   "cell_type": "code",
   "execution_count": 9,
   "metadata": {},
   "outputs": [
    {
     "data": {
      "text/plain": [
       "Text(0, 0.5, 'Number of Customers')"
      ]
     },
     "execution_count": 9,
     "metadata": {},
     "output_type": "execute_result"
    },
    {
     "data": {
      "image/png": "[encoded data removed]",
      "text/plain": [
       "<Figure size 432x288 with 1 Axes>"
      ]
     },
     "metadata": {
      "needs_background": "light"
     },
     "output_type": "display_data"
    }
   ],
   "source": [
    "# let's make an histogram to get familiar with the\n",
    "# distribution of the variable\n",
    "\n",
    "fig = data['number_open_accounts'].hist(bins=100)\n",
    "\n",
    "# for better visualisation, I display only specific\n",
    "# range in the x-axis\n",
    "fig.set_xlim(0, 30)\n",
    "\n",
    "# title and axis legends\n",
    "fig.set_title('Number of open accounts')\n",
    "fig.set_xlabel('Number of open accounts')\n",
    "fig.set_ylabel('Number of Customers')"
   ]
  },
  {
   "cell_type": "markdown",
   "metadata": {},
   "source": [
    "Histograms of discrete variables have this typical broken shape, as not all the values within the variable range are present in the variable. As I said, the customer can have 3 credit cards, but not 3,5 credit cards.\n",
    "\n",
    "Let's look at another example of a discrete variable in this dataset: **Number of installment accounts opened in past 12 months** ('number_credit_lines_12' in the dataset). \n",
    "\n",
    "Installment accounts are those that at the moment of acquiring them, there is a set period and amount of repayments agreed between the lender and borrower. An example of this is a car loan, or a student loan. The borrower knows that they will pay a fixed amount over a fixed period, for example 36 months."
   ]
  },
  {
   "cell_type": "code",
   "execution_count": 10,
   "metadata": {},
   "outputs": [
    {
     "data": {
      "text/plain": [
       "array([nan,  2.,  4.,  1.,  0.,  3.,  5.,  6.])"
      ]
     },
     "execution_count": 10,
     "metadata": {},
     "output_type": "execute_result"
    }
   ],
   "source": [
    "# let's inspect the variable values\n",
    "\n",
    "data['number_credit_lines_12'].unique()"
   ]
  },
  {
   "cell_type": "code",
   "execution_count": 11,
   "metadata": {},
   "outputs": [
    {
     "data": {
      "text/plain": [
       "Text(0, 0.5, 'Number of Borrowers')"
      ]
     },
     "execution_count": 11,
     "metadata": {},
     "output_type": "execute_result"
    },
    {
     "data": {
      "image/png": "[encoded data removed]",
      "text/plain": [
       "<Figure size 432x288 with 1 Axes>"
      ]
     },
     "metadata": {
      "needs_background": "light"
     },
     "output_type": "display_data"
    }
   ],
   "source": [
    "# let's make a histogram to get familiar with the\n",
    "# distribution of the variable\n",
    "\n",
    "fig = data['number_credit_lines_12'].hist(bins=50)\n",
    "fig.set_title('Number of installment accounts opened in past 12 months')\n",
    "fig.set_xlabel('Number of installment accounts opened in past 12 months')\n",
    "fig.set_ylabel('Number of Borrowers')"
   ]
  },
  {
   "cell_type": "markdown",
   "metadata": {},
   "source": [
    "The majority of the borrowers have none or 1 installment account, with only a few borrowers having more than 2."
   ]
  },
  {
   "cell_type": "markdown",
   "metadata": {},
   "source": [
    "### A variation of discrete variables: the binary variable\n",
    "\n",
    "Binary variables, are discrete variables, that can take only 2 values, therefore binary."
   ]
  },
  {
   "cell_type": "code",
   "execution_count": 12,
   "metadata": {},
   "outputs": [
    {
     "data": {
      "text/plain": [
       "array([0, 1], dtype=int64)"
      ]
     },
     "execution_count": 12,
     "metadata": {},
     "output_type": "execute_result"
    }
   ],
   "source": [
    "# A binary variable, can take 2 values. For example in\n",
    "# the variable \"target\":\n",
    "# either the loan is defaulted (1) or not (0)\n",
    "\n",
    "data['target'].unique()"
   ]
  },
  {
   "cell_type": "code",
   "execution_count": 13,
   "metadata": {},
   "outputs": [
    {
     "data": {
      "text/plain": [
       "Text(0, 0.5, 'Number of Loans')"
      ]
     },
     "execution_count": 13,
     "metadata": {},
     "output_type": "execute_result"
    },
    {
     "data": {
      "image/png": "[encoded data removed]",
      "text/plain": [
       "<Figure size 432x288 with 1 Axes>"
      ]
     },
     "metadata": {
      "needs_background": "light"
     },
     "output_type": "display_data"
    }
   ],
   "source": [
    "# let's make a histogram, although histograms for\n",
    "# binary variables do not make a lot of sense\n",
    "\n",
    "fig = data['target'].hist()\n",
    "fig.set_xlim(0, 2)\n",
    "fig.set_title('Defaulted accounts')\n",
    "fig.set_xlabel('Defaulted')\n",
    "fig.set_ylabel('Number of Loans')"
   ]
  },
  {
   "cell_type": "markdown",
   "metadata": {},
   "source": [
    "As we can see, the variable shows only 2 values, 0 and 1, and the majority of the loans are OK.\n",
    "\n",
    "**That is all for this demonstration. I hope you enjoyed the notebook, and see you in the next one.**"
   ]
  }
 ],
 "metadata": {
  "kernelspec": {
   "display_name": "fe_test",
   "language": "python",
   "name": "fe_test"
  },
  "language_info": {
   "codemirror_mode": {
    "name": "ipython",
    "version": 3
   },
   "file_extension": ".py",
   "mimetype": "text/x-python",
   "name": "python",
   "nbconvert_exporter": "python",
   "pygments_lexer": "ipython3",
   "version": "3.8.2"
  },
  "toc": {
   "base_numbering": 1,
   "nav_menu": {},
   "number_sections": true,
   "sideBar": true,
   "skip_h1_title": false,
   "title_cell": "Table of Contents",
   "title_sidebar": "Contents",
   "toc_cell": false,
   "toc_position": {},
   "toc_section_display": "block",
   "toc_window_display": true
  }
 },
 "nbformat": 4,
 "nbformat_minor": 1
}
